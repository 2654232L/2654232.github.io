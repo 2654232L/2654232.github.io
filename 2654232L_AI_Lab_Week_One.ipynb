{
 "cells": [
  {
   "cell_type": "markdown",
   "id": "0c69fabb",
   "metadata": {},
   "source": [
    "# Week One: Getting Started with Anaconda, Jupyter Notebook and Python\n",
    "\n",
    "Exercises to familiarise myself with Jupyter Notebook and its relationship to Python"
   ]
  },
  {
   "cell_type": "markdown",
   "id": "b717b46f",
   "metadata": {},
   "source": [
    "### Why I chose to join this course\n",
    "\n",
    "I chose to join this course because I have an interest in AI and its development."
   ]
  },
  {
   "cell_type": "markdown",
   "id": "c65b0240",
   "metadata": {},
   "source": [
    "### Prior Experience\n",
    "\n",
    "I have used Python since I was in high school and during my first two years at university doing computer science courses. I do not have any experience with AI."
   ]
  },
  {
   "cell_type": "markdown",
   "id": "1c32ab7e",
   "metadata": {},
   "source": [
    "### What I expect to learn from this course\n",
    "\n",
    "- About recent AI developments\n",
    "- How AI is expected to develop in the future\n",
    "- How to use some different python libraries\n",
    "- How to write a literature review"
   ]
  },
  {
   "cell_type": "markdown",
   "id": "9168e92e",
   "metadata": {},
   "source": [
    "### Task 1.4"
   ]
  },
  {
   "cell_type": "code",
   "execution_count": 1,
   "id": "cdb45dc1",
   "metadata": {},
   "outputs": [
    {
     "name": "stdout",
     "output_type": "stream",
     "text": [
      "Hello World!\n"
     ]
    }
   ],
   "source": [
    "print(\"Hello World!\")"
   ]
  },
  {
   "cell_type": "code",
   "execution_count": 2,
   "id": "9c917229",
   "metadata": {},
   "outputs": [
    {
     "name": "stdout",
     "output_type": "stream",
     "text": [
      "Hello World\n"
     ]
    }
   ],
   "source": [
    "message = \"Hello World!\"\n",
    "\n",
    "print(message)"
   ]
  },
  {
   "cell_type": "markdown",
   "id": "c1715978",
   "metadata": {},
   "source": [
    "### Task 1.5"
   ]
  },
  {
   "cell_type": "code",
   "execution_count": 5,
   "id": "022e1f5e",
   "metadata": {},
   "outputs": [
    {
     "name": "stdout",
     "output_type": "stream",
     "text": [
      "Hello my name is Hannah\n",
      "Hello my name is HannahHello my name is Hannah\n",
      "Hello my name is HannahHello my name is HannahHello my name is Hannah\n",
      "H\n"
     ]
    }
   ],
   "source": [
    "message = \"Hello my name is Hannah\"\n",
    "\n",
    "print(message)\n",
    "print(message + message)\n",
    "print(message*3)\n",
    "print(message[0])"
   ]
  },
  {
   "cell_type": "markdown",
   "id": "6933dcb3",
   "metadata": {},
   "source": [
    "message + message outputs the message twice one after the other\n",
    "\n",
    "message * 3 outputs the message three times\n",
    "\n",
    "message[0] output the first character of the string\n",
    "\n",
    "I think message is an adequate variable name for the content it has. It could be made better by being called something more specific, for example, greeting."
   ]
  },
  {
   "cell_type": "markdown",
   "id": "e1b175d6",
   "metadata": {},
   "source": [
    "### Task 1.6"
   ]
  },
  {
   "cell_type": "code",
   "execution_count": 6,
   "id": "04676d57",
   "metadata": {},
   "outputs": [],
   "source": [
    "from IPython.display import *"
   ]
  },
  {
   "cell_type": "code",
   "execution_count": 7,
   "id": "4b9e26ef",
   "metadata": {},
   "outputs": [
    {
     "data": {
      "text/html": [
       "\n",
       "        <iframe\n",
       "            width=\"400\"\n",
       "            height=\"300\"\n",
       "            src=\"https://www.youtube.com/embed/8MgjyEAl2OA&ab_c\"\n",
       "            frameborder=\"0\"\n",
       "            allowfullscreen\n",
       "        ></iframe>\n",
       "        "
      ],
      "text/plain": [
       "<IPython.lib.display.YouTubeVideo at 0x2457b295b20>"
      ]
     },
     "execution_count": 7,
     "metadata": {},
     "output_type": "execute_result"
    }
   ],
   "source": [
    "YouTubeVideo(\"8MgjyEAl2OA&ab_c\")"
   ]
  },
  {
   "cell_type": "markdown",
   "id": "469f4d7b",
   "metadata": {},
   "source": [
    "### Task 1.8"
   ]
  },
  {
   "cell_type": "code",
   "execution_count": 8,
   "id": "3eda8c0a",
   "metadata": {},
   "outputs": [
    {
     "name": "stdout",
     "output_type": "stream",
     "text": [
      "Shall we hunt down an old website?\n",
      "Type a website URL: www.youtube.com\n",
      "Type year, month, and date, e.g. 20150613: 20230928\n",
      "Found this copy:  http://web.archive.org/web/20230928143150/https://www.youtube.com/\n",
      "It should appear in your browser.\n"
     ]
    }
   ],
   "source": [
    "import webbrowser\n",
    "import requests\n",
    "\n",
    "print(\"Shall we hunt down an old website?\")\n",
    "\n",
    "site = input(\"Type a website URL: \")\n",
    "\n",
    "era = input(\"Type year, month, and date, e.g. 20150613: \")\n",
    "\n",
    "url = \"http://archive.org/wayback/available?url=%s&timestamp=%s\" % (site, era)\n",
    "\n",
    "response = requests.get(url)\n",
    "\n",
    "data = response.json()\n",
    "\n",
    "try:\n",
    "    old_site = data[\"archived_snapshots\"][\"closest\"][\"url\"]\n",
    "    print(\"Found this copy: \", old_site)\n",
    "    print(\"It should appear in your browser.\")\n",
    "    webbrowser.open(old_site)\n",
    "except:\n",
    "    print(\"Sorry, could not find the site.\")"
   ]
  },
  {
   "cell_type": "code",
   "execution_count": null,
   "id": "942965ec",
   "metadata": {},
   "outputs": [],
   "source": []
  }
 ],
 "metadata": {
  "kernelspec": {
   "display_name": "Python 3",
   "language": "python",
   "name": "python3"
  },
  "language_info": {
   "codemirror_mode": {
    "name": "ipython",
    "version": 3
   },
   "file_extension": ".py",
   "mimetype": "text/x-python",
   "name": "python",
   "nbconvert_exporter": "python",
   "pygments_lexer": "ipython3",
   "version": "3.8.8"
  }
 },
 "nbformat": 4,
 "nbformat_minor": 5
}
