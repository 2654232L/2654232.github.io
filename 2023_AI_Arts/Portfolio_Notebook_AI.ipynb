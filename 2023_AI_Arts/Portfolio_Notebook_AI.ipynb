{
 "cells": [
  {
   "cell_type": "markdown",
   "id": "0c69fabb",
   "metadata": {},
   "source": [
    "# Week One: Getting Started with Anaconda, Jupyter Notebook and Python\n",
    "\n",
    "Exercises to familiarise myself with Jupyter Notebook and its relationship to Python"
   ]
  },
  {
   "cell_type": "markdown",
   "id": "b717b46f",
   "metadata": {},
   "source": [
    "### Why I chose to join this course\n",
    "\n",
    "I chose to join this course because I have an interest in AI and its development."
   ]
  },
  {
   "cell_type": "markdown",
   "id": "c65b0240",
   "metadata": {},
   "source": [
    "### Prior Experience\n",
    "\n",
    "I have used Python since I was in high school and during my first two years at university doing computer science courses. I do not have any experience with AI."
   ]
  },
  {
   "cell_type": "markdown",
   "id": "1c32ab7e",
   "metadata": {},
   "source": [
    "### What I expect to learn from this course\n",
    "\n",
    "- About recent AI developments\n",
    "- How AI is expected to develop in the future\n",
    "- How to use some different python libraries\n",
    "- How to write a literature review"
   ]
  },
  {
   "cell_type": "markdown",
   "id": "9168e92e",
   "metadata": {},
   "source": [
    "### Task 1.4"
   ]
  },
  {
   "cell_type": "code",
   "execution_count": null,
   "id": "cdb45dc1",
   "metadata": {},
   "outputs": [],
   "source": [
    "print(\"Hello World!\")"
   ]
  },
  {
   "cell_type": "code",
   "execution_count": null,
   "id": "9c917229",
   "metadata": {},
   "outputs": [],
   "source": [
    "message = \"Hello World!\"\n",
    "\n",
    "print(message)"
   ]
  },
  {
   "cell_type": "markdown",
   "id": "c1715978",
   "metadata": {},
   "source": [
    "### Task 1.5"
   ]
  },
  {
   "cell_type": "code",
   "execution_count": null,
   "id": "022e1f5e",
   "metadata": {},
   "outputs": [],
   "source": [
    "message = \"Hello my name is Hannah\"\n",
    "\n",
    "print(message)\n",
    "print(message + message)\n",
    "print(message*3)\n",
    "print(message[0])"
   ]
  },
  {
   "cell_type": "markdown",
   "id": "6933dcb3",
   "metadata": {},
   "source": [
    "message + message outputs the message twice one after the other\n",
    "\n",
    "message * 3 outputs the message three times\n",
    "\n",
    "message[0] output the first character of the string\n",
    "\n",
    "I think message is an adequate variable name for the content it has. It could be made better by being called something more specific, for example, greeting."
   ]
  },
  {
   "cell_type": "markdown",
   "id": "e1b175d6",
   "metadata": {},
   "source": [
    "### Task 1.6"
   ]
  },
  {
   "cell_type": "code",
   "execution_count": null,
   "id": "04676d57",
   "metadata": {},
   "outputs": [],
   "source": [
    "from IPython.display import *"
   ]
  },
  {
   "cell_type": "code",
   "execution_count": null,
   "id": "4b9e26ef",
   "metadata": {},
   "outputs": [],
   "source": [
    "YouTubeVideo(\"8MgjyEAl2OA&ab_c\")"
   ]
  },
  {
   "cell_type": "markdown",
   "id": "469f4d7b",
   "metadata": {},
   "source": [
    "### Task 1.8"
   ]
  },
  {
   "cell_type": "code",
   "execution_count": null,
   "id": "3eda8c0a",
   "metadata": {},
   "outputs": [],
   "source": [
    "import webbrowser\n",
    "import requests\n",
    "\n",
    "print(\"Shall we hunt down an old website?\")\n",
    "\n",
    "site = input(\"Type a website URL: \")\n",
    "\n",
    "era = input(\"Type year, month, and date, e.g. 20150613: \")\n",
    "\n",
    "url = \"http://archive.org/wayback/available?url=%s&timestamp=%s\" % (site, era)\n",
    "\n",
    "response = requests.get(url)\n",
    "\n",
    "data = response.json()\n",
    "\n",
    "try:\n",
    "    old_site = data[\"archived_snapshots\"][\"closest\"][\"url\"]\n",
    "    print(\"Found this copy: \", old_site)\n",
    "    print(\"It should appear in your browser.\")\n",
    "    webbrowser.open(old_site)\n",
    "except:\n",
    "    print(\"Sorry, could not find the site.\")"
   ]
  },
  {
   "cell_type": "markdown",
   "id": "98038588",
   "metadata": {},
   "source": [
    "# Week Two: Exploring Data in Multiple Ways"
   ]
  },
  {
   "cell_type": "code",
   "execution_count": null,
   "id": "aecfc215",
   "metadata": {},
   "outputs": [],
   "source": [
    "from IPython.display import Image"
   ]
  },
  {
   "cell_type": "code",
   "execution_count": null,
   "id": "91262e26",
   "metadata": {},
   "outputs": [],
   "source": [
    "Image (\"picture1.jpg\")"
   ]
  },
  {
   "cell_type": "code",
   "execution_count": null,
   "id": "fd676ba8",
   "metadata": {},
   "outputs": [],
   "source": [
    "from IPython.display import Audio"
   ]
  },
  {
   "cell_type": "code",
   "execution_count": null,
   "id": "19688543",
   "metadata": {},
   "outputs": [],
   "source": [
    "Audio (\"audio1.mid\")"
   ]
  },
  {
   "cell_type": "code",
   "execution_count": null,
   "id": "4049a053",
   "metadata": {},
   "outputs": [],
   "source": [
    "Audio (\"audio2.ogg\")\n",
    "#This file is licensed under the Creative Commons Attribution-Share Alike 3.0 Unported license.You are free: \n",
    "#•\tto share – to copy, distribute and transmit the work\n",
    "#•\tto remix – to adapt the work\n",
    "#Under the following conditions: \n",
    "#•\tattribution – You must give appropriate credit, provide a link to the license, and indicate if changes were made. You may do so in any reasonable manner, but not in any way that suggests the licensor endorses you or your use.\n",
    "#•\tshare alike – If you remix, transform, or build upon the material, you must distribute your contributions under the same or compatible license as the original.\n",
    "#The original ogg file was found at the url: \n",
    "#https://en.wikipedia.org/wiki/File:GoldbergVariations_MehmetOkonsar-1of3_Var1to10.ogg\n"
   ]
  },
  {
   "cell_type": "markdown",
   "id": "fc929d83",
   "metadata": {},
   "source": [
    "Audio 2 does not play because the file is not called audio. Once the name has been changed to match it works."
   ]
  },
  {
   "cell_type": "markdown",
   "id": "74c73ddf",
   "metadata": {},
   "source": [
    "## Task 3.2 matplotlib Library to Look at the Numerical Data of a Picture"
   ]
  },
  {
   "cell_type": "code",
   "execution_count": null,
   "id": "f7708c32",
   "metadata": {},
   "outputs": [],
   "source": [
    "from matplotlib import pyplot\n",
    "test_picture = pyplot.imread(\"picture1.jpg\")\n",
    "print(\"Numpy array of the image is: \", test_picture)\n",
    "pyplot.imshow(test_picture)"
   ]
  },
  {
   "cell_type": "code",
   "execution_count": null,
   "id": "38faa35f",
   "metadata": {},
   "outputs": [],
   "source": [
    "test_picture_filtered = 2*test_picture/3\n",
    "pyplot.imshow(test_picture_filtered)"
   ]
  },
  {
   "cell_type": "markdown",
   "id": "b247b7f3",
   "metadata": {},
   "source": [
    "The picture has been filtered. I think the colours of the original array have been changed by multiplying the colour by 2 and dividing by 3 to create this edited photo."
   ]
  },
  {
   "cell_type": "markdown",
   "id": "d89c9b29",
   "metadata": {},
   "source": [
    "## Task 3.2 Exploring scikit-learn"
   ]
  },
  {
   "cell_type": "code",
   "execution_count": null,
   "id": "7c908456",
   "metadata": {},
   "outputs": [],
   "source": [
    "from sklearn import datasets\n",
    "dir(datasets)"
   ]
  },
  {
   "cell_type": "markdown",
   "id": "f745eec5",
   "metadata": {},
   "source": [
    "I chose load_iris, load_boston, load_digits. These sounded most interesting to me and I want to find out what is in these datasets."
   ]
  },
  {
   "cell_type": "code",
   "execution_count": null,
   "id": "6d51f9eb",
   "metadata": {},
   "outputs": [],
   "source": [
    "iris_data = datasets.load_iris()\n",
    "digits_data = datasets.load_digits()\n",
    "boston_data = datasets.load_boston()\n",
    "\n",
    "print(iris_data.DESCR)\n",
    "print(boston_data.DESCR)\n",
    "print(digits_data.DESCR)"
   ]
  },
  {
   "cell_type": "code",
   "execution_count": null,
   "id": "8a8a17d6",
   "metadata": {},
   "outputs": [],
   "source": [
    "boston_data.feature_names"
   ]
  },
  {
   "cell_type": "markdown",
   "id": "1aa2ec96",
   "metadata": {},
   "source": [
    "The Boston data has 13 features."
   ]
  },
  {
   "cell_type": "code",
   "execution_count": null,
   "id": "458075e0",
   "metadata": {},
   "outputs": [],
   "source": [
    "iris_data.target_names"
   ]
  },
  {
   "cell_type": "markdown",
   "id": "b64d9e78",
   "metadata": {},
   "source": [
    "The iris data has 3 target names. I think these are each different types of Iris plant the dataset is about."
   ]
  },
  {
   "cell_type": "code",
   "execution_count": null,
   "id": "d4b267dc",
   "metadata": {},
   "outputs": [],
   "source": [
    "digits_data.target_names"
   ]
  },
  {
   "cell_type": "code",
   "execution_count": null,
   "id": "565f4cba",
   "metadata": {},
   "outputs": [],
   "source": [
    "digits_data.feature_names"
   ]
  },
  {
   "cell_type": "markdown",
   "id": "a6ee8f21",
   "metadata": {},
   "source": [
    "boston_data.target_names"
   ]
  },
  {
   "cell_type": "markdown",
   "id": "74c60ce7",
   "metadata": {},
   "source": [
    "The boston data does not have any target names."
   ]
  },
  {
   "cell_type": "code",
   "execution_count": null,
   "id": "9682d1c8",
   "metadata": {},
   "outputs": [],
   "source": [
    "boston_data.keys()"
   ]
  },
  {
   "cell_type": "markdown",
   "id": "0dd15255",
   "metadata": {},
   "source": [
    "## Task 3.4 Basic Data Exploration with Pandas library"
   ]
  },
  {
   "cell_type": "code",
   "execution_count": null,
   "id": "12bbb23a",
   "metadata": {},
   "outputs": [],
   "source": [
    "from sklearn import datasets\n",
    "import pandas\n",
    "\n",
    "wine_data = datasets.load_wine()\n",
    "\n",
    "wine_dataframe = pandas.DataFrame(data=wine_data['data'], columns = wine_data['feature_names'])\n",
    "\n",
    "wine_dataframe.head()\n",
    "wine_dataframe.describe()"
   ]
  },
  {
   "cell_type": "markdown",
   "id": "5b9dfbde",
   "metadata": {},
   "source": [
    "The head() command gets the first 5 rows of the data frame. describe() adds the row labels e.g. count, mean, etc."
   ]
  },
  {
   "cell_type": "markdown",
   "id": "fbd3cb0e",
   "metadata": {},
   "source": [
    "## Task 3.5 Thinking about Data Bias\n",
    "\n",
    "To assess bias I would look for number of features explore, the amount of references used, and the number of sets used - the bigger the number the better."
   ]
  }
 ],
 "metadata": {
  "kernelspec": {
   "display_name": "Python 3 (ipykernel)",
   "language": "python",
   "name": "python3"
  },
  "language_info": {
   "codemirror_mode": {
    "name": "ipython",
    "version": 3
   },
   "file_extension": ".py",
   "mimetype": "text/x-python",
   "name": "python",
   "nbconvert_exporter": "python",
   "pygments_lexer": "ipython3",
   "version": "3.9.18"
  }
 },
 "nbformat": 4,
 "nbformat_minor": 5
}
